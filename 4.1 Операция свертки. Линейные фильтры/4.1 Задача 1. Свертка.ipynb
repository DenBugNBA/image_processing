{
 "cells": [
  {
   "cell_type": "code",
   "execution_count": 1,
   "id": "c5eb0915",
   "metadata": {},
   "outputs": [],
   "source": [
    "import numpy as np"
   ]
  },
  {
   "cell_type": "code",
   "execution_count": 2,
   "id": "3519f383",
   "metadata": {},
   "outputs": [],
   "source": [
    "img = np.array([[0, -8, -3, -2], [1, 9, -8, 0], [9, -4, 5, -9], [6, -4, 6, 3]])"
   ]
  },
  {
   "cell_type": "code",
   "execution_count": 3,
   "id": "e0196f29",
   "metadata": {},
   "outputs": [
    {
     "data": {
      "text/plain": [
       "array([[ 0, -8, -3, -2],\n",
       "       [ 1,  9, -8,  0],\n",
       "       [ 9, -4,  5, -9],\n",
       "       [ 6, -4,  6,  3]])"
      ]
     },
     "execution_count": 3,
     "metadata": {},
     "output_type": "execute_result"
    }
   ],
   "source": [
    "img"
   ]
  },
  {
   "cell_type": "code",
   "execution_count": 4,
   "id": "a7ea3e95",
   "metadata": {},
   "outputs": [],
   "source": [
    "kernel = np.array([[4, -5, 4], [-6, -8, -2], [1, 5, 5]])"
   ]
  },
  {
   "cell_type": "code",
   "execution_count": 5,
   "id": "7708d4f3",
   "metadata": {},
   "outputs": [
    {
     "data": {
      "text/plain": [
       "array([[ 4, -5,  4],\n",
       "       [-6, -8, -2],\n",
       "       [ 1,  5,  5]])"
      ]
     },
     "execution_count": 5,
     "metadata": {},
     "output_type": "execute_result"
    }
   ],
   "source": [
    "kernel"
   ]
  },
  {
   "cell_type": "markdown",
   "id": "6d30e721",
   "metadata": {},
   "source": [
    "numpy.fliplr(a) - отражает массив по горизонтали - элементы каждой строки переставляются в обратном порядке слева направо\n",
    "\n",
    "numpy.flipud(a) - отражает массив по вертикали - элементы каждого столбца переставляются в обратном порядке сверху вниз"
   ]
  },
  {
   "cell_type": "code",
   "execution_count": 6,
   "id": "f9d0d858",
   "metadata": {},
   "outputs": [],
   "source": [
    "kernel_mirror = np.flipud(np.fliplr(kernel))"
   ]
  },
  {
   "cell_type": "code",
   "execution_count": 7,
   "id": "bd8ebaa2",
   "metadata": {},
   "outputs": [
    {
     "data": {
      "text/plain": [
       "array([[ 5,  5,  1],\n",
       "       [-2, -8, -6],\n",
       "       [ 4, -5,  4]])"
      ]
     },
     "execution_count": 7,
     "metadata": {},
     "output_type": "execute_result"
    }
   ],
   "source": [
    "kernel_mirror"
   ]
  },
  {
   "cell_type": "code",
   "execution_count": 8,
   "id": "b5da7ebd",
   "metadata": {},
   "outputs": [],
   "source": [
    "conv = np.array( [ [(img[:-1, :-1] * kernel_mirror).sum(),  (img[:-1, 1:] * kernel_mirror).sum() ], \n",
    "                  [(img[1:, :-1] * kernel_mirror).sum(), (img[1:, 1:] * kernel_mirror).sum()] ] )"
   ]
  },
  {
   "cell_type": "code",
   "execution_count": 9,
   "id": "d8bcabff",
   "metadata": {},
   "outputs": [
    {
     "data": {
      "text/plain": [
       "array([[  7, -88],\n",
       "       [ 94,  -7]])"
      ]
     },
     "execution_count": 9,
     "metadata": {},
     "output_type": "execute_result"
    }
   ],
   "source": [
    "conv"
   ]
  },
  {
   "cell_type": "code",
   "execution_count": 10,
   "id": "1c0d5dd7",
   "metadata": {},
   "outputs": [
    {
     "data": {
      "text/plain": [
       "(2, 2)"
      ]
     },
     "execution_count": 10,
     "metadata": {},
     "output_type": "execute_result"
    }
   ],
   "source": [
    "conv.shape"
   ]
  }
 ],
 "metadata": {
  "kernelspec": {
   "display_name": "Python 3 (ipykernel)",
   "language": "python",
   "name": "python3"
  },
  "language_info": {
   "codemirror_mode": {
    "name": "ipython",
    "version": 3
   },
   "file_extension": ".py",
   "mimetype": "text/x-python",
   "name": "python",
   "nbconvert_exporter": "python",
   "pygments_lexer": "ipython3",
   "version": "3.9.1"
  }
 },
 "nbformat": 4,
 "nbformat_minor": 5
}
