{
 "cells": [
  {
   "cell_type": "code",
   "execution_count": 1,
   "id": "56779cef",
   "metadata": {},
   "outputs": [
    {
     "name": "stdout",
     "output_type": "stream",
     "text": [
      "0.33\n"
     ]
    }
   ],
   "source": [
    "sigma = float(input())"
   ]
  },
  {
   "cell_type": "code",
   "execution_count": 2,
   "id": "74d60849",
   "metadata": {},
   "outputs": [],
   "source": [
    "half = round(3 * sigma)"
   ]
  },
  {
   "cell_type": "code",
   "execution_count": 3,
   "id": "7a054661",
   "metadata": {},
   "outputs": [
    {
     "data": {
      "text/plain": [
       "1"
      ]
     },
     "execution_count": 3,
     "metadata": {},
     "output_type": "execute_result"
    }
   ],
   "source": [
    "half"
   ]
  },
  {
   "cell_type": "code",
   "execution_count": 4,
   "id": "d3831c3b",
   "metadata": {},
   "outputs": [],
   "source": [
    "k = round(half * 2 + 1)"
   ]
  },
  {
   "cell_type": "code",
   "execution_count": 5,
   "id": "7daa86c2",
   "metadata": {},
   "outputs": [
    {
     "data": {
      "text/plain": [
       "int"
      ]
     },
     "execution_count": 5,
     "metadata": {},
     "output_type": "execute_result"
    }
   ],
   "source": [
    "type(k)"
   ]
  },
  {
   "cell_type": "code",
   "execution_count": 6,
   "id": "b8d9b5aa",
   "metadata": {},
   "outputs": [
    {
     "data": {
      "text/plain": [
       "3"
      ]
     },
     "execution_count": 6,
     "metadata": {},
     "output_type": "execute_result"
    }
   ],
   "source": [
    "k"
   ]
  },
  {
   "cell_type": "code",
   "execution_count": 7,
   "id": "feabb684",
   "metadata": {},
   "outputs": [],
   "source": [
    "kernel = []"
   ]
  },
  {
   "cell_type": "code",
   "execution_count": 8,
   "id": "ee471d08",
   "metadata": {},
   "outputs": [],
   "source": [
    "for i in reversed(range(-half, half + 1)):\n",
    "    for j in range(-half, half + 1):\n",
    "        #print((j, i))\n",
    "        kernel.append((j, i))"
   ]
  },
  {
   "cell_type": "code",
   "execution_count": 9,
   "id": "d746aa9d",
   "metadata": {},
   "outputs": [
    {
     "data": {
      "text/plain": [
       "[(-1, 1), (0, 1), (1, 1), (-1, 0), (0, 0), (1, 0), (-1, -1), (0, -1), (1, -1)]"
      ]
     },
     "execution_count": 9,
     "metadata": {},
     "output_type": "execute_result"
    }
   ],
   "source": [
    "kernel"
   ]
  },
  {
   "cell_type": "code",
   "execution_count": 10,
   "id": "e60cfb6f",
   "metadata": {},
   "outputs": [],
   "source": [
    "import numpy as np"
   ]
  },
  {
   "cell_type": "code",
   "execution_count": 11,
   "id": "5e4c9662",
   "metadata": {},
   "outputs": [],
   "source": [
    "kernel = (np.array(kernel).reshape(k, k, 2)).tolist()"
   ]
  },
  {
   "cell_type": "code",
   "execution_count": 12,
   "id": "47b0f383",
   "metadata": {},
   "outputs": [
    {
     "data": {
      "text/plain": [
       "[[[-1, 1], [0, 1], [1, 1]],\n",
       " [[-1, 0], [0, 0], [1, 0]],\n",
       " [[-1, -1], [0, -1], [1, -1]]]"
      ]
     },
     "execution_count": 12,
     "metadata": {},
     "output_type": "execute_result"
    }
   ],
   "source": [
    "kernel"
   ]
  },
  {
   "cell_type": "code",
   "execution_count": 13,
   "id": "b683277c",
   "metadata": {},
   "outputs": [
    {
     "data": {
      "text/plain": [
       "-1"
      ]
     },
     "execution_count": 13,
     "metadata": {},
     "output_type": "execute_result"
    }
   ],
   "source": [
    "kernel[0][0][0]"
   ]
  },
  {
   "cell_type": "code",
   "execution_count": 14,
   "id": "4d82fd5f",
   "metadata": {},
   "outputs": [],
   "source": [
    "import math"
   ]
  },
  {
   "cell_type": "code",
   "execution_count": 15,
   "id": "048f645a",
   "metadata": {},
   "outputs": [],
   "source": [
    "for i in range(k):\n",
    "    for j in range(k):\n",
    "        #a = 1 / (2 * math.pi * sigma ** 2) * math.exp(- (kernel[i][j][0] ** 2 + kernel[i][j][1] ** 2) / (2 * sigma ** 2))\n",
    "        #print(a)\n",
    "        kernel[i][j] = 1 / (2 * math.pi * sigma ** 2) * math.exp(- (kernel[i][j][0] ** 2 + kernel[i][j][1] ** 2) / (2 * sigma ** 2))"
   ]
  },
  {
   "cell_type": "code",
   "execution_count": 16,
   "id": "1421da3e",
   "metadata": {},
   "outputs": [
    {
     "data": {
      "text/plain": [
       "[[0.00015023823764622897, 0.014817889989941713, 0.00015023823764622897],\n",
       " [0.014817889989941713, 1.461477897997202, 0.014817889989941713],\n",
       " [0.00015023823764622897, 0.014817889989941713, 0.00015023823764622897]]"
      ]
     },
     "execution_count": 16,
     "metadata": {},
     "output_type": "execute_result"
    }
   ],
   "source": [
    "kernel"
   ]
  },
  {
   "cell_type": "code",
   "execution_count": 17,
   "id": "dcf685a8",
   "metadata": {},
   "outputs": [],
   "source": [
    "sum = np.array(kernel).sum()"
   ]
  },
  {
   "cell_type": "code",
   "execution_count": 18,
   "id": "ec9ea104",
   "metadata": {},
   "outputs": [
    {
     "data": {
      "text/plain": [
       "1.521350410907554"
      ]
     },
     "execution_count": 18,
     "metadata": {},
     "output_type": "execute_result"
    }
   ],
   "source": [
    "sum"
   ]
  },
  {
   "cell_type": "code",
   "execution_count": 19,
   "id": "e49ea54e",
   "metadata": {},
   "outputs": [
    {
     "data": {
      "text/plain": [
       "\"\\nfor i in range(k):\\n    for j in range(k):\\n        kernel[i][j] = str(round(kernel[i][j] / sum, 5))\\n    print(' '.join(kernel[i]))\\n\""
      ]
     },
     "execution_count": 19,
     "metadata": {},
     "output_type": "execute_result"
    }
   ],
   "source": [
    "# для вывода строки ядра\n",
    "\"\"\"\n",
    "for i in range(k):\n",
    "    for j in range(k):\n",
    "        kernel[i][j] = str(round(kernel[i][j] / sum, 5))\n",
    "    print(' '.join(kernel[i]))\n",
    "\"\"\""
   ]
  },
  {
   "cell_type": "code",
   "execution_count": 20,
   "id": "2fe89fa5",
   "metadata": {},
   "outputs": [],
   "source": [
    "for i in range(k):\n",
    "    for j in range(k):\n",
    "        kernel[i][j] = kernel[i][j] / sum"
   ]
  },
  {
   "cell_type": "code",
   "execution_count": 21,
   "id": "a8f628fe",
   "metadata": {},
   "outputs": [
    {
     "data": {
      "text/plain": [
       "[[9.875321067984929e-05, 0.009739958581338387, 9.875321067984929e-05],\n",
       " [0.009739958581338387, 0.960645152831927, 0.009739958581338387],\n",
       " [9.875321067984929e-05, 0.009739958581338387, 9.875321067984929e-05]]"
      ]
     },
     "execution_count": 21,
     "metadata": {},
     "output_type": "execute_result"
    }
   ],
   "source": [
    "kernel"
   ]
  },
  {
   "cell_type": "code",
   "execution_count": 22,
   "id": "9c9da8d0",
   "metadata": {},
   "outputs": [
    {
     "data": {
      "text/plain": [
       "numpy.float64"
      ]
     },
     "execution_count": 22,
     "metadata": {},
     "output_type": "execute_result"
    }
   ],
   "source": [
    "type(kernel[0][0])"
   ]
  }
 ],
 "metadata": {
  "kernelspec": {
   "display_name": "Python 3 (ipykernel)",
   "language": "python",
   "name": "python3"
  },
  "language_info": {
   "codemirror_mode": {
    "name": "ipython",
    "version": 3
   },
   "file_extension": ".py",
   "mimetype": "text/x-python",
   "name": "python",
   "nbconvert_exporter": "python",
   "pygments_lexer": "ipython3",
   "version": "3.9.1"
  }
 },
 "nbformat": 4,
 "nbformat_minor": 5
}
