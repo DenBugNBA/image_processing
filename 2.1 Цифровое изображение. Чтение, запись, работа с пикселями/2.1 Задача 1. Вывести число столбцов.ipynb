{
 "cells": [
  {
   "cell_type": "code",
   "execution_count": 1,
   "id": "c82bc110",
   "metadata": {},
   "outputs": [],
   "source": [
    "from skimage.io import imread"
   ]
  },
  {
   "cell_type": "code",
   "execution_count": 2,
   "id": "90ae17a9",
   "metadata": {},
   "outputs": [
    {
     "name": "stdout",
     "output_type": "stream",
     "text": [
      "2.1 Р—Р°РґР°С‡Р° 1.ipynb\n",
      "2.1 Р¦РёС„СЂРѕРІРѕРµ РёР·РѕР±СЂР°Р¶РµРЅРёРµ. Р§С‚РµРЅРёРµ, Р·Р°РїРёСЃСЊ, СЂР°Р±РѕС‚Р° СЃ РїРёРєСЃРµР»СЏРјРё.ipynb\n",
      "img.png\n",
      "tiger-color.png\n",
      "tiger-yellow-pixel.png\n"
     ]
    }
   ],
   "source": [
    "!ls"
   ]
  },
  {
   "cell_type": "code",
   "execution_count": 4,
   "id": "600125b8",
   "metadata": {},
   "outputs": [],
   "source": [
    "img = imread('img.png')"
   ]
  },
  {
   "cell_type": "code",
   "execution_count": 8,
   "id": "b0641982",
   "metadata": {},
   "outputs": [
    {
     "data": {
      "text/plain": [
       "(1075, 419)"
      ]
     },
     "execution_count": 8,
     "metadata": {},
     "output_type": "execute_result"
    }
   ],
   "source": [
    "img.shape"
   ]
  },
  {
   "cell_type": "code",
   "execution_count": 9,
   "id": "f6ada4c0",
   "metadata": {},
   "outputs": [
    {
     "data": {
      "text/plain": [
       "419"
      ]
     },
     "execution_count": 9,
     "metadata": {},
     "output_type": "execute_result"
    }
   ],
   "source": [
    "img.shape[1]"
   ]
  },
  {
   "cell_type": "code",
   "execution_count": 10,
   "id": "23543159",
   "metadata": {},
   "outputs": [
    {
     "data": {
      "text/plain": [
       "249"
      ]
     },
     "execution_count": 10,
     "metadata": {},
     "output_type": "execute_result"
    }
   ],
   "source": [
    "img[0, 0]"
   ]
  },
  {
   "cell_type": "code",
   "execution_count": 21,
   "id": "1cb7ddf0",
   "metadata": {},
   "outputs": [
    {
     "data": {
      "text/plain": [
       "240"
      ]
     },
     "execution_count": 21,
     "metadata": {},
     "output_type": "execute_result"
    }
   ],
   "source": [
    "img[200, 220]"
   ]
  },
  {
   "cell_type": "code",
   "execution_count": null,
   "id": "954146da",
   "metadata": {},
   "outputs": [],
   "source": []
  }
 ],
 "metadata": {
  "kernelspec": {
   "display_name": "Python 3 (ipykernel)",
   "language": "python",
   "name": "python3"
  },
  "language_info": {
   "codemirror_mode": {
    "name": "ipython",
    "version": 3
   },
   "file_extension": ".py",
   "mimetype": "text/x-python",
   "name": "python",
   "nbconvert_exporter": "python",
   "pygments_lexer": "ipython3",
   "version": "3.9.1"
  }
 },
 "nbformat": 4,
 "nbformat_minor": 5
}
