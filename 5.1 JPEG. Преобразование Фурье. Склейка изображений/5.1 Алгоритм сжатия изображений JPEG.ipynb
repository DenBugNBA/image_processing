{
 "cells": [
  {
   "cell_type": "code",
   "execution_count": 1,
   "id": "fb4f5470",
   "metadata": {},
   "outputs": [],
   "source": [
    "%matplotlib inline"
   ]
  },
  {
   "cell_type": "markdown",
   "id": "25f4bb71",
   "metadata": {},
   "source": [
    "Запишем значения пикселей конкретного блока (целые числа от 0 до 255) в прямоугольную таблицу 8x8."
   ]
  },
  {
   "cell_type": "code",
   "execution_count": 2,
   "id": "cd6f2622",
   "metadata": {},
   "outputs": [],
   "source": [
    "import numpy as np"
   ]
  },
  {
   "cell_type": "code",
   "execution_count": 3,
   "id": "a5b985a3",
   "metadata": {},
   "outputs": [],
   "source": [
    "img = np.array([[52, 55, 61,  66,  70,  61, 64, 73],\n",
    "                [63, 59, 55,  90, 109,  85, 69, 72],\n",
    "                [62, 59, 68, 113, 144, 104, 66, 73],\n",
    "                [63, 58, 71, 122, 154, 106, 70, 69],\n",
    "                [67, 61, 68, 104, 126,  88, 68, 70],\n",
    "                [79, 65, 60,  70,  77,  68, 58, 75],\n",
    "                [85, 71, 64,  59,  55,  61, 65, 83],\n",
    "                [87, 79, 69,  68,  65,  76, 78, 94]])"
   ]
  },
  {
   "cell_type": "markdown",
   "id": "0c34b8c8",
   "metadata": {},
   "source": [
    "Теперь будем центрировать значения этой таблицы вокруг нуля, т.е. вычтем 128 из каждого пикселя. Получим таблицу 8x8 c отрицательными и положительными значениями."
   ]
  },
  {
   "cell_type": "code",
   "execution_count": 4,
   "id": "7579a870",
   "metadata": {},
   "outputs": [],
   "source": [
    "g = img - 128"
   ]
  },
  {
   "cell_type": "code",
   "execution_count": 5,
   "id": "8d3fb506",
   "metadata": {},
   "outputs": [
    {
     "data": {
      "text/plain": [
       "array([[-76, -73, -67, -62, -58, -67, -64, -55],\n",
       "       [-65, -69, -73, -38, -19, -43, -59, -56],\n",
       "       [-66, -69, -60, -15,  16, -24, -62, -55],\n",
       "       [-65, -70, -57,  -6,  26, -22, -58, -59],\n",
       "       [-61, -67, -60, -24,  -2, -40, -60, -58],\n",
       "       [-49, -63, -68, -58, -51, -60, -70, -53],\n",
       "       [-43, -57, -64, -69, -73, -67, -63, -45],\n",
       "       [-41, -49, -59, -60, -63, -52, -50, -34]])"
      ]
     },
     "execution_count": 5,
     "metadata": {},
     "output_type": "execute_result"
    }
   ],
   "source": [
    "g"
   ]
  },
  {
   "cell_type": "markdown",
   "id": "ae9ec43f",
   "metadata": {},
   "source": [
    "После этого будем кодировать данный блок специальным образом. Для этого нам понадобятся вспомогательные изображения - такие, как на слайде.\n",
    "Что это за изображения? Это изображения косинусных функций. Если мы нарисуем на изображении функцию косинуса и учтём, что косинус может изменяться как по горизонтали, так и по вертикали, то и получим такие изображения. Здесь косинус изменяется по горизонтали и вертикали, а промежуточные значения - это комбинация косинусов, которые изменяются по горизонтали и по вертикали."
   ]
  },
  {
   "cell_type": "code",
   "execution_count": 6,
   "id": "56f29ba3",
   "metadata": {},
   "outputs": [],
   "source": [
    "from math import cos, floor, pi, sqrt"
   ]
  },
  {
   "cell_type": "code",
   "execution_count": 7,
   "id": "c926e1aa",
   "metadata": {},
   "outputs": [],
   "source": [
    "from matplotlib import pyplot as plt"
   ]
  },
  {
   "cell_type": "code",
   "execution_count": 8,
   "id": "d73adabd",
   "metadata": {},
   "outputs": [
    {
     "data": {
      "image/png": "[encoded data removed]",
      "text/plain": [
       "<Figure size 360x360 with 64 Axes>"
      ]
     },
     "metadata": {},
     "output_type": "display_data"
    }
   ],
   "source": [
    "fig, axes = plt.subplots(nrows=8, ncols=8, figsize=(5, 5))\n",
    "dct = np.zeros((8, 8, 8, 8))\n",
    "for u in range(8):\n",
    "    for v in range(8):\n",
    "        for x in range(8):\n",
    "            for y in range(8):\n",
    "                dct[u,v,x,y] = cos((2*x+1)*u*pi/16) * cos((2*y+1)*v*pi/16)\n",
    "vmin, vmax = dct.min(), dct.max()\n",
    "for u in range(8):\n",
    "    for v in range(8):\n",
    "        axes[u, v].imshow(dct[u, v], cmap='gray', vmin=vmin, vmax=vmax)\n",
    "        axes[u, v].axis('off')\n",
    "fig.patch.set_facecolor('#ececec')"
   ]
  },
  {
   "cell_type": "code",
   "execution_count": 9,
   "id": "0e02a71a",
   "metadata": {},
   "outputs": [
    {
     "data": {
      "text/plain": [
       "(-0.9807852804032307, 1.0)"
      ]
     },
     "execution_count": 9,
     "metadata": {},
     "output_type": "execute_result"
    }
   ],
   "source": [
    "vmin, vmax"
   ]
  },
  {
   "cell_type": "code",
   "execution_count": 10,
   "id": "990422b8",
   "metadata": {
    "scrolled": true
   },
   "outputs": [
    {
     "data": {
      "text/plain": [
       "array([[[[ 1.        ,  1.        ,  1.        , ...,  1.        ,\n",
       "           1.        ,  1.        ],\n",
       "         [ 1.        ,  1.        ,  1.        , ...,  1.        ,\n",
       "           1.        ,  1.        ],\n",
       "         [ 1.        ,  1.        ,  1.        , ...,  1.        ,\n",
       "           1.        ,  1.        ],\n",
       "         ...,\n",
       "         [ 1.        ,  1.        ,  1.        , ...,  1.        ,\n",
       "           1.        ,  1.        ],\n",
       "         [ 1.        ,  1.        ,  1.        , ...,  1.        ,\n",
       "           1.        ,  1.        ],\n",
       "         [ 1.        ,  1.        ,  1.        , ...,  1.        ,\n",
       "           1.        ,  1.        ]],\n",
       "\n",
       "        [[ 0.98078528,  0.83146961,  0.55557023, ..., -0.55557023,\n",
       "          -0.83146961, -0.98078528],\n",
       "         [ 0.98078528,  0.83146961,  0.55557023, ..., -0.55557023,\n",
       "          -0.83146961, -0.98078528],\n",
       "         [ 0.98078528,  0.83146961,  0.55557023, ..., -0.55557023,\n",
       "          -0.83146961, -0.98078528],\n",
       "         ...,\n",
       "         [ 0.98078528,  0.83146961,  0.55557023, ..., -0.55557023,\n",
       "          -0.83146961, -0.98078528],\n",
       "         [ 0.98078528,  0.83146961,  0.55557023, ..., -0.55557023,\n",
       "          -0.83146961, -0.98078528],\n",
       "         [ 0.98078528,  0.83146961,  0.55557023, ..., -0.55557023,\n",
       "          -0.83146961, -0.98078528]],\n",
       "\n",
       "        [[ 0.92387953,  0.38268343, -0.38268343, ..., -0.38268343,\n",
       "           0.38268343,  0.92387953],\n",
       "         [ 0.92387953,  0.38268343, -0.38268343, ..., -0.38268343,\n",
       "           0.38268343,  0.92387953],\n",
       "         [ 0.92387953,  0.38268343, -0.38268343, ..., -0.38268343,\n",
       "           0.38268343,  0.92387953],\n",
       "         ...,\n",
       "         [ 0.92387953,  0.38268343, -0.38268343, ..., -0.38268343,\n",
       "           0.38268343,  0.92387953],\n",
       "         [ 0.92387953,  0.38268343, -0.38268343, ..., -0.38268343,\n",
       "           0.38268343,  0.92387953],\n",
       "         [ 0.92387953,  0.38268343, -0.38268343, ..., -0.38268343,\n",
       "           0.38268343,  0.92387953]],\n",
       "\n",
       "        ...,\n",
       "\n",
       "        [[ 0.55557023, -0.98078528,  0.19509032, ..., -0.19509032,\n",
       "           0.98078528, -0.55557023],\n",
       "         [ 0.55557023, -0.98078528,  0.19509032, ..., -0.19509032,\n",
       "           0.98078528, -0.55557023],\n",
       "         [ 0.55557023, -0.98078528,  0.19509032, ..., -0.19509032,\n",
       "           0.98078528, -0.55557023],\n",
       "         ...,\n",
       "         [ 0.55557023, -0.98078528,  0.19509032, ..., -0.19509032,\n",
       "           0.98078528, -0.55557023],\n",
       "         [ 0.55557023, -0.98078528,  0.19509032, ..., -0.19509032,\n",
       "           0.98078528, -0.55557023],\n",
       "         [ 0.55557023, -0.98078528,  0.19509032, ..., -0.19509032,\n",
       "           0.98078528, -0.55557023]],\n",
       "\n",
       "        [[ 0.38268343, -0.92387953,  0.92387953, ...,  0.92387953,\n",
       "          -0.92387953,  0.38268343],\n",
       "         [ 0.38268343, -0.92387953,  0.92387953, ...,  0.92387953,\n",
       "          -0.92387953,  0.38268343],\n",
       "         [ 0.38268343, -0.92387953,  0.92387953, ...,  0.92387953,\n",
       "          -0.92387953,  0.38268343],\n",
       "         ...,\n",
       "         [ 0.38268343, -0.92387953,  0.92387953, ...,  0.92387953,\n",
       "          -0.92387953,  0.38268343],\n",
       "         [ 0.38268343, -0.92387953,  0.92387953, ...,  0.92387953,\n",
       "          -0.92387953,  0.38268343],\n",
       "         [ 0.38268343, -0.92387953,  0.92387953, ...,  0.92387953,\n",
       "          -0.92387953,  0.38268343]],\n",
       "\n",
       "        [[ 0.19509032, -0.55557023,  0.83146961, ..., -0.83146961,\n",
       "           0.55557023, -0.19509032],\n",
       "         [ 0.19509032, -0.55557023,  0.83146961, ..., -0.83146961,\n",
       "           0.55557023, -0.19509032],\n",
       "         [ 0.19509032, -0.55557023,  0.83146961, ..., -0.83146961,\n",
       "           0.55557023, -0.19509032],\n",
       "         ...,\n",
       "         [ 0.19509032, -0.55557023,  0.83146961, ..., -0.83146961,\n",
       "           0.55557023, -0.19509032],\n",
       "         [ 0.19509032, -0.55557023,  0.83146961, ..., -0.83146961,\n",
       "           0.55557023, -0.19509032],\n",
       "         [ 0.19509032, -0.55557023,  0.83146961, ..., -0.83146961,\n",
       "           0.55557023, -0.19509032]]],\n",
       "\n",
       "\n",
       "       [[[ 0.98078528,  0.98078528,  0.98078528, ...,  0.98078528,\n",
       "           0.98078528,  0.98078528],\n",
       "         [ 0.83146961,  0.83146961,  0.83146961, ...,  0.83146961,\n",
       "           0.83146961,  0.83146961],\n",
       "         [ 0.55557023,  0.55557023,  0.55557023, ...,  0.55557023,\n",
       "           0.55557023,  0.55557023],\n",
       "         ...,\n",
       "         [-0.55557023, -0.55557023, -0.55557023, ..., -0.55557023,\n",
       "          -0.55557023, -0.55557023],\n",
       "         [-0.83146961, -0.83146961, -0.83146961, ..., -0.83146961,\n",
       "          -0.83146961, -0.83146961],\n",
       "         [-0.98078528, -0.98078528, -0.98078528, ..., -0.98078528,\n",
       "          -0.98078528, -0.98078528]],\n",
       "\n",
       "        [[ 0.96193977,  0.81549316,  0.54489511, ..., -0.54489511,\n",
       "          -0.81549316, -0.96193977],\n",
       "         [ 0.81549316,  0.69134172,  0.46193977, ..., -0.46193977,\n",
       "          -0.69134172, -0.81549316],\n",
       "         [ 0.54489511,  0.46193977,  0.30865828, ..., -0.30865828,\n",
       "          -0.46193977, -0.54489511],\n",
       "         ...,\n",
       "         [-0.54489511, -0.46193977, -0.30865828, ...,  0.30865828,\n",
       "           0.46193977,  0.54489511],\n",
       "         [-0.81549316, -0.69134172, -0.46193977, ...,  0.46193977,\n",
       "           0.69134172,  0.81549316],\n",
       "         [-0.96193977, -0.81549316, -0.54489511, ...,  0.54489511,\n",
       "           0.81549316,  0.96193977]],\n",
       "\n",
       "        [[ 0.90612745,  0.37533028, -0.37533028, ..., -0.37533028,\n",
       "           0.37533028,  0.90612745],\n",
       "         [ 0.76817776,  0.31818965, -0.31818965, ..., -0.31818965,\n",
       "           0.31818965,  0.76817776],\n",
       "         [ 0.51327997,  0.21260752, -0.21260752, ..., -0.21260752,\n",
       "           0.21260752,  0.51327997],\n",
       "         ...,\n",
       "         [-0.51327997, -0.21260752,  0.21260752, ...,  0.21260752,\n",
       "          -0.21260752, -0.51327997],\n",
       "         [-0.76817776, -0.31818965,  0.31818965, ...,  0.31818965,\n",
       "          -0.31818965, -0.76817776],\n",
       "         [-0.90612745, -0.37533028,  0.37533028, ...,  0.37533028,\n",
       "          -0.37533028, -0.90612745]],\n",
       "\n",
       "        ...,\n",
       "\n",
       "        [[ 0.54489511, -0.96193977,  0.19134172, ..., -0.19134172,\n",
       "           0.96193977, -0.54489511],\n",
       "         [ 0.46193977, -0.81549316,  0.16221167, ..., -0.16221167,\n",
       "           0.81549316, -0.46193977],\n",
       "         [ 0.30865828, -0.54489511,  0.10838638, ..., -0.10838638,\n",
       "           0.54489511, -0.30865828],\n",
       "         ...,\n",
       "         [-0.30865828,  0.54489511, -0.10838638, ...,  0.10838638,\n",
       "          -0.54489511,  0.30865828],\n",
       "         [-0.46193977,  0.81549316, -0.16221167, ...,  0.16221167,\n",
       "          -0.81549316,  0.46193977],\n",
       "         [-0.54489511,  0.96193977, -0.19134172, ...,  0.19134172,\n",
       "          -0.96193977,  0.54489511]],\n",
       "\n",
       "        [[ 0.37533028, -0.90612745,  0.90612745, ...,  0.90612745,\n",
       "          -0.90612745,  0.37533028],\n",
       "         [ 0.31818965, -0.76817776,  0.76817776, ...,  0.76817776,\n",
       "          -0.76817776,  0.31818965],\n",
       "         [ 0.21260752, -0.51327997,  0.51327997, ...,  0.51327997,\n",
       "          -0.51327997,  0.21260752],\n",
       "         ...,\n",
       "         [-0.21260752,  0.51327997, -0.51327997, ..., -0.51327997,\n",
       "           0.51327997, -0.21260752],\n",
       "         [-0.31818965,  0.76817776, -0.76817776, ..., -0.76817776,\n",
       "           0.76817776, -0.31818965],\n",
       "         [-0.37533028,  0.90612745, -0.90612745, ..., -0.90612745,\n",
       "           0.90612745, -0.37533028]],\n",
       "\n",
       "        [[ 0.19134172, -0.54489511,  0.81549316, ..., -0.81549316,\n",
       "           0.54489511, -0.19134172],\n",
       "         [ 0.16221167, -0.46193977,  0.69134172, ..., -0.69134172,\n",
       "           0.46193977, -0.16221167],\n",
       "         [ 0.10838638, -0.30865828,  0.46193977, ..., -0.46193977,\n",
       "           0.30865828, -0.10838638],\n",
       "         ...,\n",
       "         [-0.10838638,  0.30865828, -0.46193977, ...,  0.46193977,\n",
       "          -0.30865828,  0.10838638],\n",
       "         [-0.16221167,  0.46193977, -0.69134172, ...,  0.69134172,\n",
       "          -0.46193977,  0.16221167],\n",
       "         [-0.19134172,  0.54489511, -0.81549316, ...,  0.81549316,\n",
       "          -0.54489511,  0.19134172]]],\n",
       "\n",
       "\n",
       "       [[[ 0.92387953,  0.92387953,  0.92387953, ...,  0.92387953,\n",
       "           0.92387953,  0.92387953],\n",
       "         [ 0.38268343,  0.38268343,  0.38268343, ...,  0.38268343,\n",
       "           0.38268343,  0.38268343],\n",
       "         [-0.38268343, -0.38268343, -0.38268343, ..., -0.38268343,\n",
       "          -0.38268343, -0.38268343],\n",
       "         ...,\n",
       "         [-0.38268343, -0.38268343, -0.38268343, ..., -0.38268343,\n",
       "          -0.38268343, -0.38268343],\n",
       "         [ 0.38268343,  0.38268343,  0.38268343, ...,  0.38268343,\n",
       "           0.38268343,  0.38268343],\n",
       "         [ 0.92387953,  0.92387953,  0.92387953, ...,  0.92387953,\n",
       "           0.92387953,  0.92387953]],\n",
       "\n",
       "        [[ 0.90612745,  0.76817776,  0.51327997, ..., -0.51327997,\n",
       "          -0.76817776, -0.90612745],\n",
       "         [ 0.37533028,  0.31818965,  0.21260752, ..., -0.21260752,\n",
       "          -0.31818965, -0.37533028],\n",
       "         [-0.37533028, -0.31818965, -0.21260752, ...,  0.21260752,\n",
       "           0.31818965,  0.37533028],\n",
       "         ...,\n",
       "         [-0.37533028, -0.31818965, -0.21260752, ...,  0.21260752,\n",
       "           0.31818965,  0.37533028],\n",
       "         [ 0.37533028,  0.31818965,  0.21260752, ..., -0.21260752,\n",
       "          -0.31818965, -0.37533028],\n",
       "         [ 0.90612745,  0.76817776,  0.51327997, ..., -0.51327997,\n",
       "          -0.76817776, -0.90612745]],\n",
       "\n",
       "        [[ 0.85355339,  0.35355339, -0.35355339, ..., -0.35355339,\n",
       "           0.35355339,  0.85355339],\n",
       "         [ 0.35355339,  0.14644661, -0.14644661, ..., -0.14644661,\n",
       "           0.14644661,  0.35355339],\n",
       "         [-0.35355339, -0.14644661,  0.14644661, ...,  0.14644661,\n",
       "          -0.14644661, -0.35355339],\n",
       "         ...,\n",
       "         [-0.35355339, -0.14644661,  0.14644661, ...,  0.14644661,\n",
       "          -0.14644661, -0.35355339],\n",
       "         [ 0.35355339,  0.14644661, -0.14644661, ..., -0.14644661,\n",
       "           0.14644661,  0.35355339],\n",
       "         [ 0.85355339,  0.35355339, -0.35355339, ..., -0.35355339,\n",
       "           0.35355339,  0.85355339]],\n",
       "\n",
       "        ...,\n",
       "\n",
       "        [[ 0.51327997, -0.90612745,  0.18023996, ..., -0.18023996,\n",
       "           0.90612745, -0.51327997],\n",
       "         [ 0.21260752, -0.37533028,  0.07465783, ..., -0.07465783,\n",
       "           0.37533028, -0.21260752],\n",
       "         [-0.21260752,  0.37533028, -0.07465783, ...,  0.07465783,\n",
       "          -0.37533028,  0.21260752],\n",
       "         ...,\n",
       "         [-0.21260752,  0.37533028, -0.07465783, ...,  0.07465783,\n",
       "          -0.37533028,  0.21260752],\n",
       "         [ 0.21260752, -0.37533028,  0.07465783, ..., -0.07465783,\n",
       "           0.37533028, -0.21260752],\n",
       "         [ 0.51327997, -0.90612745,  0.18023996, ..., -0.18023996,\n",
       "           0.90612745, -0.51327997]],\n",
       "\n",
       "        [[ 0.35355339, -0.85355339,  0.85355339, ...,  0.85355339,\n",
       "          -0.85355339,  0.35355339],\n",
       "         [ 0.14644661, -0.35355339,  0.35355339, ...,  0.35355339,\n",
       "          -0.35355339,  0.14644661],\n",
       "         [-0.14644661,  0.35355339, -0.35355339, ..., -0.35355339,\n",
       "           0.35355339, -0.14644661],\n",
       "         ...,\n",
       "         [-0.14644661,  0.35355339, -0.35355339, ..., -0.35355339,\n",
       "           0.35355339, -0.14644661],\n",
       "         [ 0.14644661, -0.35355339,  0.35355339, ...,  0.35355339,\n",
       "          -0.35355339,  0.14644661],\n",
       "         [ 0.35355339, -0.85355339,  0.85355339, ...,  0.85355339,\n",
       "          -0.85355339,  0.35355339]],\n",
       "\n",
       "        [[ 0.18023996, -0.51327997,  0.76817776, ..., -0.76817776,\n",
       "           0.51327997, -0.18023996],\n",
       "         [ 0.07465783, -0.21260752,  0.31818965, ..., -0.31818965,\n",
       "           0.21260752, -0.07465783],\n",
       "         [-0.07465783,  0.21260752, -0.31818965, ...,  0.31818965,\n",
       "          -0.21260752,  0.07465783],\n",
       "         ...,\n",
       "         [-0.07465783,  0.21260752, -0.31818965, ...,  0.31818965,\n",
       "          -0.21260752,  0.07465783],\n",
       "         [ 0.07465783, -0.21260752,  0.31818965, ..., -0.31818965,\n",
       "           0.21260752, -0.07465783],\n",
       "         [ 0.18023996, -0.51327997,  0.76817776, ..., -0.76817776,\n",
       "           0.51327997, -0.18023996]]],\n",
       "\n",
       "\n",
       "       ...,\n",
       "\n",
       "\n",
       "       [[[ 0.55557023,  0.55557023,  0.55557023, ...,  0.55557023,\n",
       "           0.55557023,  0.55557023],\n",
       "         [-0.98078528, -0.98078528, -0.98078528, ..., -0.98078528,\n",
       "          -0.98078528, -0.98078528],\n",
       "         [ 0.19509032,  0.19509032,  0.19509032, ...,  0.19509032,\n",
       "           0.19509032,  0.19509032],\n",
       "         ...,\n",
       "         [-0.19509032, -0.19509032, -0.19509032, ..., -0.19509032,\n",
       "          -0.19509032, -0.19509032],\n",
       "         [ 0.98078528,  0.98078528,  0.98078528, ...,  0.98078528,\n",
       "           0.98078528,  0.98078528],\n",
       "         [-0.55557023, -0.55557023, -0.55557023, ..., -0.55557023,\n",
       "          -0.55557023, -0.55557023]],\n",
       "\n",
       "        [[ 0.54489511,  0.46193977,  0.30865828, ..., -0.30865828,\n",
       "          -0.46193977, -0.54489511],\n",
       "         [-0.96193977, -0.81549316, -0.54489511, ...,  0.54489511,\n",
       "           0.81549316,  0.96193977],\n",
       "         [ 0.19134172,  0.16221167,  0.10838638, ..., -0.10838638,\n",
       "          -0.16221167, -0.19134172],\n",
       "         ...,\n",
       "         [-0.19134172, -0.16221167, -0.10838638, ...,  0.10838638,\n",
       "           0.16221167,  0.19134172],\n",
       "         [ 0.96193977,  0.81549316,  0.54489511, ..., -0.54489511,\n",
       "          -0.81549316, -0.96193977],\n",
       "         [-0.54489511, -0.46193977, -0.30865828, ...,  0.30865828,\n",
       "           0.46193977,  0.54489511]],\n",
       "\n",
       "        [[ 0.51327997,  0.21260752, -0.21260752, ..., -0.21260752,\n",
       "           0.21260752,  0.51327997],\n",
       "         [-0.90612745, -0.37533028,  0.37533028, ...,  0.37533028,\n",
       "          -0.37533028, -0.90612745],\n",
       "         [ 0.18023996,  0.07465783, -0.07465783, ..., -0.07465783,\n",
       "           0.07465783,  0.18023996],\n",
       "         ...,\n",
       "         [-0.18023996, -0.07465783,  0.07465783, ...,  0.07465783,\n",
       "          -0.07465783, -0.18023996],\n",
       "         [ 0.90612745,  0.37533028, -0.37533028, ..., -0.37533028,\n",
       "           0.37533028,  0.90612745],\n",
       "         [-0.51327997, -0.21260752,  0.21260752, ...,  0.21260752,\n",
       "          -0.21260752, -0.51327997]],\n",
       "\n",
       "        ...,\n",
       "\n",
       "        [[ 0.30865828, -0.54489511,  0.10838638, ..., -0.10838638,\n",
       "           0.54489511, -0.30865828],\n",
       "         [-0.54489511,  0.96193977, -0.19134172, ...,  0.19134172,\n",
       "          -0.96193977,  0.54489511],\n",
       "         [ 0.10838638, -0.19134172,  0.03806023, ..., -0.03806023,\n",
       "           0.19134172, -0.10838638],\n",
       "         ...,\n",
       "         [-0.10838638,  0.19134172, -0.03806023, ...,  0.03806023,\n",
       "          -0.19134172,  0.10838638],\n",
       "         [ 0.54489511, -0.96193977,  0.19134172, ..., -0.19134172,\n",
       "           0.96193977, -0.54489511],\n",
       "         [-0.30865828,  0.54489511, -0.10838638, ...,  0.10838638,\n",
       "          -0.54489511,  0.30865828]],\n",
       "\n",
       "        [[ 0.21260752, -0.51327997,  0.51327997, ...,  0.51327997,\n",
       "          -0.51327997,  0.21260752],\n",
       "         [-0.37533028,  0.90612745, -0.90612745, ..., -0.90612745,\n",
       "           0.90612745, -0.37533028],\n",
       "         [ 0.07465783, -0.18023996,  0.18023996, ...,  0.18023996,\n",
       "          -0.18023996,  0.07465783],\n",
       "         ...,\n",
       "         [-0.07465783,  0.18023996, -0.18023996, ..., -0.18023996,\n",
       "           0.18023996, -0.07465783],\n",
       "         [ 0.37533028, -0.90612745,  0.90612745, ...,  0.90612745,\n",
       "          -0.90612745,  0.37533028],\n",
       "         [-0.21260752,  0.51327997, -0.51327997, ..., -0.51327997,\n",
       "           0.51327997, -0.21260752]],\n",
       "\n",
       "        [[ 0.10838638, -0.30865828,  0.46193977, ..., -0.46193977,\n",
       "           0.30865828, -0.10838638],\n",
       "         [-0.19134172,  0.54489511, -0.81549316, ...,  0.81549316,\n",
       "          -0.54489511,  0.19134172],\n",
       "         [ 0.03806023, -0.10838638,  0.16221167, ..., -0.16221167,\n",
       "           0.10838638, -0.03806023],\n",
       "         ...,\n",
       "         [-0.03806023,  0.10838638, -0.16221167, ...,  0.16221167,\n",
       "          -0.10838638,  0.03806023],\n",
       "         [ 0.19134172, -0.54489511,  0.81549316, ..., -0.81549316,\n",
       "           0.54489511, -0.19134172],\n",
       "         [-0.10838638,  0.30865828, -0.46193977, ...,  0.46193977,\n",
       "          -0.30865828,  0.10838638]]],\n",
       "\n",
       "\n",
       "       [[[ 0.38268343,  0.38268343,  0.38268343, ...,  0.38268343,\n",
       "           0.38268343,  0.38268343],\n",
       "         [-0.92387953, -0.92387953, -0.92387953, ..., -0.92387953,\n",
       "          -0.92387953, -0.92387953],\n",
       "         [ 0.92387953,  0.92387953,  0.92387953, ...,  0.92387953,\n",
       "           0.92387953,  0.92387953],\n",
       "         ...,\n",
       "         [ 0.92387953,  0.92387953,  0.92387953, ...,  0.92387953,\n",
       "           0.92387953,  0.92387953],\n",
       "         [-0.92387953, -0.92387953, -0.92387953, ..., -0.92387953,\n",
       "          -0.92387953, -0.92387953],\n",
       "         [ 0.38268343,  0.38268343,  0.38268343, ...,  0.38268343,\n",
       "           0.38268343,  0.38268343]],\n",
       "\n",
       "        [[ 0.37533028,  0.31818965,  0.21260752, ..., -0.21260752,\n",
       "          -0.31818965, -0.37533028],\n",
       "         [-0.90612745, -0.76817776, -0.51327997, ...,  0.51327997,\n",
       "           0.76817776,  0.90612745],\n",
       "         [ 0.90612745,  0.76817776,  0.51327997, ..., -0.51327997,\n",
       "          -0.76817776, -0.90612745],\n",
       "         ...,\n",
       "         [ 0.90612745,  0.76817776,  0.51327997, ..., -0.51327997,\n",
       "          -0.76817776, -0.90612745],\n",
       "         [-0.90612745, -0.76817776, -0.51327997, ...,  0.51327997,\n",
       "           0.76817776,  0.90612745],\n",
       "         [ 0.37533028,  0.31818965,  0.21260752, ..., -0.21260752,\n",
       "          -0.31818965, -0.37533028]],\n",
       "\n",
       "        [[ 0.35355339,  0.14644661, -0.14644661, ..., -0.14644661,\n",
       "           0.14644661,  0.35355339],\n",
       "         [-0.85355339, -0.35355339,  0.35355339, ...,  0.35355339,\n",
       "          -0.35355339, -0.85355339],\n",
       "         [ 0.85355339,  0.35355339, -0.35355339, ..., -0.35355339,\n",
       "           0.35355339,  0.85355339],\n",
       "         ...,\n",
       "         [ 0.85355339,  0.35355339, -0.35355339, ..., -0.35355339,\n",
       "           0.35355339,  0.85355339],\n",
       "         [-0.85355339, -0.35355339,  0.35355339, ...,  0.35355339,\n",
       "          -0.35355339, -0.85355339],\n",
       "         [ 0.35355339,  0.14644661, -0.14644661, ..., -0.14644661,\n",
       "           0.14644661,  0.35355339]],\n",
       "\n",
       "        ...,\n",
       "\n",
       "        [[ 0.21260752, -0.37533028,  0.07465783, ..., -0.07465783,\n",
       "           0.37533028, -0.21260752],\n",
       "         [-0.51327997,  0.90612745, -0.18023996, ...,  0.18023996,\n",
       "          -0.90612745,  0.51327997],\n",
       "         [ 0.51327997, -0.90612745,  0.18023996, ..., -0.18023996,\n",
       "           0.90612745, -0.51327997],\n",
       "         ...,\n",
       "         [ 0.51327997, -0.90612745,  0.18023996, ..., -0.18023996,\n",
       "           0.90612745, -0.51327997],\n",
       "         [-0.51327997,  0.90612745, -0.18023996, ...,  0.18023996,\n",
       "          -0.90612745,  0.51327997],\n",
       "         [ 0.21260752, -0.37533028,  0.07465783, ..., -0.07465783,\n",
       "           0.37533028, -0.21260752]],\n",
       "\n",
       "        [[ 0.14644661, -0.35355339,  0.35355339, ...,  0.35355339,\n",
       "          -0.35355339,  0.14644661],\n",
       "         [-0.35355339,  0.85355339, -0.85355339, ..., -0.85355339,\n",
       "           0.85355339, -0.35355339],\n",
       "         [ 0.35355339, -0.85355339,  0.85355339, ...,  0.85355339,\n",
       "          -0.85355339,  0.35355339],\n",
       "         ...,\n",
       "         [ 0.35355339, -0.85355339,  0.85355339, ...,  0.85355339,\n",
       "          -0.85355339,  0.35355339],\n",
       "         [-0.35355339,  0.85355339, -0.85355339, ..., -0.85355339,\n",
       "           0.85355339, -0.35355339],\n",
       "         [ 0.14644661, -0.35355339,  0.35355339, ...,  0.35355339,\n",
       "          -0.35355339,  0.14644661]],\n",
       "\n",
       "        [[ 0.07465783, -0.21260752,  0.31818965, ..., -0.31818965,\n",
       "           0.21260752, -0.07465783],\n",
       "         [-0.18023996,  0.51327997, -0.76817776, ...,  0.76817776,\n",
       "          -0.51327997,  0.18023996],\n",
       "         [ 0.18023996, -0.51327997,  0.76817776, ..., -0.76817776,\n",
       "           0.51327997, -0.18023996],\n",
       "         ...,\n",
       "         [ 0.18023996, -0.51327997,  0.76817776, ..., -0.76817776,\n",
       "           0.51327997, -0.18023996],\n",
       "         [-0.18023996,  0.51327997, -0.76817776, ...,  0.76817776,\n",
       "          -0.51327997,  0.18023996],\n",
       "         [ 0.07465783, -0.21260752,  0.31818965, ..., -0.31818965,\n",
       "           0.21260752, -0.07465783]]],\n",
       "\n",
       "\n",
       "       [[[ 0.19509032,  0.19509032,  0.19509032, ...,  0.19509032,\n",
       "           0.19509032,  0.19509032],\n",
       "         [-0.55557023, -0.55557023, -0.55557023, ..., -0.55557023,\n",
       "          -0.55557023, -0.55557023],\n",
       "         [ 0.83146961,  0.83146961,  0.83146961, ...,  0.83146961,\n",
       "           0.83146961,  0.83146961],\n",
       "         ...,\n",
       "         [-0.83146961, -0.83146961, -0.83146961, ..., -0.83146961,\n",
       "          -0.83146961, -0.83146961],\n",
       "         [ 0.55557023,  0.55557023,  0.55557023, ...,  0.55557023,\n",
       "           0.55557023,  0.55557023],\n",
       "         [-0.19509032, -0.19509032, -0.19509032, ..., -0.19509032,\n",
       "          -0.19509032, -0.19509032]],\n",
       "\n",
       "        [[ 0.19134172,  0.16221167,  0.10838638, ..., -0.10838638,\n",
       "          -0.16221167, -0.19134172],\n",
       "         [-0.54489511, -0.46193977, -0.30865828, ...,  0.30865828,\n",
       "           0.46193977,  0.54489511],\n",
       "         [ 0.81549316,  0.69134172,  0.46193977, ..., -0.46193977,\n",
       "          -0.69134172, -0.81549316],\n",
       "         ...,\n",
       "         [-0.81549316, -0.69134172, -0.46193977, ...,  0.46193977,\n",
       "           0.69134172,  0.81549316],\n",
       "         [ 0.54489511,  0.46193977,  0.30865828, ..., -0.30865828,\n",
       "          -0.46193977, -0.54489511],\n",
       "         [-0.19134172, -0.16221167, -0.10838638, ...,  0.10838638,\n",
       "           0.16221167,  0.19134172]],\n",
       "\n",
       "        [[ 0.18023996,  0.07465783, -0.07465783, ..., -0.07465783,\n",
       "           0.07465783,  0.18023996],\n",
       "         [-0.51327997, -0.21260752,  0.21260752, ...,  0.21260752,\n",
       "          -0.21260752, -0.51327997],\n",
       "         [ 0.76817776,  0.31818965, -0.31818965, ..., -0.31818965,\n",
       "           0.31818965,  0.76817776],\n",
       "         ...,\n",
       "         [-0.76817776, -0.31818965,  0.31818965, ...,  0.31818965,\n",
       "          -0.31818965, -0.76817776],\n",
       "         [ 0.51327997,  0.21260752, -0.21260752, ..., -0.21260752,\n",
       "           0.21260752,  0.51327997],\n",
       "         [-0.18023996, -0.07465783,  0.07465783, ...,  0.07465783,\n",
       "          -0.07465783, -0.18023996]],\n",
       "\n",
       "        ...,\n",
       "\n",
       "        [[ 0.10838638, -0.19134172,  0.03806023, ..., -0.03806023,\n",
       "           0.19134172, -0.10838638],\n",
       "         [-0.30865828,  0.54489511, -0.10838638, ...,  0.10838638,\n",
       "          -0.54489511,  0.30865828],\n",
       "         [ 0.46193977, -0.81549316,  0.16221167, ..., -0.16221167,\n",
       "           0.81549316, -0.46193977],\n",
       "         ...,\n",
       "         [-0.46193977,  0.81549316, -0.16221167, ...,  0.16221167,\n",
       "          -0.81549316,  0.46193977],\n",
       "         [ 0.30865828, -0.54489511,  0.10838638, ..., -0.10838638,\n",
       "           0.54489511, -0.30865828],\n",
       "         [-0.10838638,  0.19134172, -0.03806023, ...,  0.03806023,\n",
       "          -0.19134172,  0.10838638]],\n",
       "\n",
       "        [[ 0.07465783, -0.18023996,  0.18023996, ...,  0.18023996,\n",
       "          -0.18023996,  0.07465783],\n",
       "         [-0.21260752,  0.51327997, -0.51327997, ..., -0.51327997,\n",
       "           0.51327997, -0.21260752],\n",
       "         [ 0.31818965, -0.76817776,  0.76817776, ...,  0.76817776,\n",
       "          -0.76817776,  0.31818965],\n",
       "         ...,\n",
       "         [-0.31818965,  0.76817776, -0.76817776, ..., -0.76817776,\n",
       "           0.76817776, -0.31818965],\n",
       "         [ 0.21260752, -0.51327997,  0.51327997, ...,  0.51327997,\n",
       "          -0.51327997,  0.21260752],\n",
       "         [-0.07465783,  0.18023996, -0.18023996, ..., -0.18023996,\n",
       "           0.18023996, -0.07465783]],\n",
       "\n",
       "        [[ 0.03806023, -0.10838638,  0.16221167, ..., -0.16221167,\n",
       "           0.10838638, -0.03806023],\n",
       "         [-0.10838638,  0.30865828, -0.46193977, ...,  0.46193977,\n",
       "          -0.30865828,  0.10838638],\n",
       "         [ 0.16221167, -0.46193977,  0.69134172, ..., -0.69134172,\n",
       "           0.46193977, -0.16221167],\n",
       "         ...,\n",
       "         [-0.16221167,  0.46193977, -0.69134172, ...,  0.69134172,\n",
       "          -0.46193977,  0.16221167],\n",
       "         [ 0.10838638, -0.30865828,  0.46193977, ..., -0.46193977,\n",
       "           0.30865828, -0.10838638],\n",
       "         [-0.03806023,  0.10838638, -0.16221167, ...,  0.16221167,\n",
       "          -0.10838638,  0.03806023]]]])"
      ]
     },
     "execution_count": 10,
     "metadata": {},
     "output_type": "execute_result"
    }
   ],
   "source": [
    "dct"
   ]
  },
  {
   "cell_type": "code",
   "execution_count": 11,
   "id": "4cb8f908",
   "metadata": {},
   "outputs": [
    {
     "data": {
      "text/plain": [
       "array([[1., 1., 1., 1., 1., 1., 1., 1.],\n",
       "       [1., 1., 1., 1., 1., 1., 1., 1.],\n",
       "       [1., 1., 1., 1., 1., 1., 1., 1.],\n",
       "       [1., 1., 1., 1., 1., 1., 1., 1.],\n",
       "       [1., 1., 1., 1., 1., 1., 1., 1.],\n",
       "       [1., 1., 1., 1., 1., 1., 1., 1.],\n",
       "       [1., 1., 1., 1., 1., 1., 1., 1.],\n",
       "       [1., 1., 1., 1., 1., 1., 1., 1.]])"
      ]
     },
     "execution_count": 11,
     "metadata": {},
     "output_type": "execute_result"
    }
   ],
   "source": [
    "dct[0, 0] # изображение с равномерным цветом из верхнего левого угла таблицы изображений "
   ]
  },
  {
   "cell_type": "code",
   "execution_count": 12,
   "id": "303c5b64",
   "metadata": {},
   "outputs": [
    {
     "data": {
      "text/plain": [
       "array([[ 0.98078528,  0.83146961,  0.55557023,  0.19509032, -0.19509032,\n",
       "        -0.55557023, -0.83146961, -0.98078528],\n",
       "       [ 0.98078528,  0.83146961,  0.55557023,  0.19509032, -0.19509032,\n",
       "        -0.55557023, -0.83146961, -0.98078528],\n",
       "       [ 0.98078528,  0.83146961,  0.55557023,  0.19509032, -0.19509032,\n",
       "        -0.55557023, -0.83146961, -0.98078528],\n",
       "       [ 0.98078528,  0.83146961,  0.55557023,  0.19509032, -0.19509032,\n",
       "        -0.55557023, -0.83146961, -0.98078528],\n",
       "       [ 0.98078528,  0.83146961,  0.55557023,  0.19509032, -0.19509032,\n",
       "        -0.55557023, -0.83146961, -0.98078528],\n",
       "       [ 0.98078528,  0.83146961,  0.55557023,  0.19509032, -0.19509032,\n",
       "        -0.55557023, -0.83146961, -0.98078528],\n",
       "       [ 0.98078528,  0.83146961,  0.55557023,  0.19509032, -0.19509032,\n",
       "        -0.55557023, -0.83146961, -0.98078528],\n",
       "       [ 0.98078528,  0.83146961,  0.55557023,  0.19509032, -0.19509032,\n",
       "        -0.55557023, -0.83146961, -0.98078528]])"
      ]
     },
     "execution_count": 12,
     "metadata": {},
     "output_type": "execute_result"
    }
   ],
   "source": [
    "dct[0, 1] # это изображение с горизонтальным косинусом, которое меняется плавно."
   ]
  },
  {
   "cell_type": "code",
   "execution_count": 13,
   "id": "8344c700",
   "metadata": {},
   "outputs": [
    {
     "data": {
      "text/plain": [
       "array([[ 0.98078528,  0.98078528,  0.98078528,  0.98078528,  0.98078528,\n",
       "         0.98078528,  0.98078528,  0.98078528],\n",
       "       [ 0.83146961,  0.83146961,  0.83146961,  0.83146961,  0.83146961,\n",
       "         0.83146961,  0.83146961,  0.83146961],\n",
       "       [ 0.55557023,  0.55557023,  0.55557023,  0.55557023,  0.55557023,\n",
       "         0.55557023,  0.55557023,  0.55557023],\n",
       "       [ 0.19509032,  0.19509032,  0.19509032,  0.19509032,  0.19509032,\n",
       "         0.19509032,  0.19509032,  0.19509032],\n",
       "       [-0.19509032, -0.19509032, -0.19509032, -0.19509032, -0.19509032,\n",
       "        -0.19509032, -0.19509032, -0.19509032],\n",
       "       [-0.55557023, -0.55557023, -0.55557023, -0.55557023, -0.55557023,\n",
       "        -0.55557023, -0.55557023, -0.55557023],\n",
       "       [-0.83146961, -0.83146961, -0.83146961, -0.83146961, -0.83146961,\n",
       "        -0.83146961, -0.83146961, -0.83146961],\n",
       "       [-0.98078528, -0.98078528, -0.98078528, -0.98078528, -0.98078528,\n",
       "        -0.98078528, -0.98078528, -0.98078528]])"
      ]
     },
     "execution_count": 13,
     "metadata": {},
     "output_type": "execute_result"
    }
   ],
   "source": [
    "dct[1, 0] # Добавляем a3 c вертикальным косинусом - это изображение чуть ниже верхнего левого угла"
   ]
  },
  {
   "cell_type": "code",
   "execution_count": 14,
   "id": "4d1b65cb",
   "metadata": {},
   "outputs": [
    {
     "data": {
      "text/plain": [
       "array([[ 0.03806023, -0.10838638,  0.16221167, -0.19134172,  0.19134172,\n",
       "        -0.16221167,  0.10838638, -0.03806023],\n",
       "       [-0.10838638,  0.30865828, -0.46193977,  0.54489511, -0.54489511,\n",
       "         0.46193977, -0.30865828,  0.10838638],\n",
       "       [ 0.16221167, -0.46193977,  0.69134172, -0.81549316,  0.81549316,\n",
       "        -0.69134172,  0.46193977, -0.16221167],\n",
       "       [-0.19134172,  0.54489511, -0.81549316,  0.96193977, -0.96193977,\n",
       "         0.81549316, -0.54489511,  0.19134172],\n",
       "       [ 0.19134172, -0.54489511,  0.81549316, -0.96193977,  0.96193977,\n",
       "        -0.81549316,  0.54489511, -0.19134172],\n",
       "       [-0.16221167,  0.46193977, -0.69134172,  0.81549316, -0.81549316,\n",
       "         0.69134172, -0.46193977,  0.16221167],\n",
       "       [ 0.10838638, -0.30865828,  0.46193977, -0.54489511,  0.54489511,\n",
       "        -0.46193977,  0.30865828, -0.10838638],\n",
       "       [-0.03806023,  0.10838638, -0.16221167,  0.19134172, -0.19134172,\n",
       "         0.16221167, -0.10838638,  0.03806023]])"
      ]
     },
     "execution_count": 14,
     "metadata": {},
     "output_type": "execute_result"
    }
   ],
   "source": [
    "dct[7, 7] # Последним слагаемым будет a64, умноженное на быстро меняющийся косинус из нижнего правого угла"
   ]
  },
  {
   "cell_type": "markdown",
   "id": "1bad9157",
   "metadata": {},
   "source": [
    "То есть наше изображение мы представляем в виде суммы новых изображений, которые зафиксированы, с весами a1, a2, ..., a64. Вес при базисном изображении говорит о том, насколько важна данная частота в изображении.\n",
    "Давайте запишем коэффициенты в отдельную табличку. Эти коэффициенты также называются амплитудами."
   ]
  },
  {
   "cell_type": "code",
   "execution_count": 15,
   "id": "52c68a41",
   "metadata": {},
   "outputs": [],
   "source": [
    "a = np.zeros((8, 8))"
   ]
  },
  {
   "cell_type": "code",
   "execution_count": 16,
   "id": "180fe610",
   "metadata": {},
   "outputs": [],
   "source": [
    "sgrt_2 = 1 / sqrt(2)"
   ]
  },
  {
   "cell_type": "code",
   "execution_count": 17,
   "id": "1a7edd90",
   "metadata": {},
   "outputs": [],
   "source": [
    "alpha = lambda z: sgrt_2 if z == 0 else 1"
   ]
  },
  {
   "cell_type": "code",
   "execution_count": 18,
   "id": "f5ff1254",
   "metadata": {},
   "outputs": [],
   "source": [
    "for u in range(8):\n",
    "    for v in range(8):\n",
    "        auv = 0\n",
    "        for x in range(8):\n",
    "            for y in range(8):\n",
    "                auv += g[x, y] * dct[u, v, x, y]\n",
    "        a[u, v] = 0.25 * alpha(u) * alpha(v) * auv"
   ]
  },
  {
   "cell_type": "code",
   "execution_count": 19,
   "id": "ba032bd3",
   "metadata": {},
   "outputs": [
    {
     "name": "stdout",
     "output_type": "stream",
     "text": [
      "-415.37  -30.19   -61.2   27.24   56.12   -20.1   -2.39    0.46\n",
      "   4.47  -21.86  -60.76   10.25   13.15   -7.09   -8.54    4.88\n",
      " -46.83    7.37   77.13  -24.56  -28.91    9.93    5.42   -5.65\n",
      " -48.53   12.07    34.1  -14.76  -10.24     6.3    1.83    1.95\n",
      "  12.12   -6.55   -13.2   -3.95   -1.87    1.75   -2.79    3.14\n",
      "  -7.73    2.91    2.38   -5.94   -2.38    0.94     4.3    1.85\n",
      "  -1.03    0.18    0.42   -2.42   -0.88   -3.02    4.12   -0.66\n",
      "  -0.17    0.14   -1.07   -4.19   -1.17    -0.1     0.5    1.68\n"
     ]
    }
   ],
   "source": [
    "for row in a:\n",
    "    print(' '.join([str(round(s, 2)).rjust(7) for s in row]))"
   ]
  },
  {
   "cell_type": "markdown",
   "id": "231951fd",
   "metadata": {},
   "source": [
    "Можно заметить, что в левом верхнем углу этой таблицы, т.е. при низких частотах, стоят большие по модулю коэффициенты, а в нижнем правом углу, т.е. при высоких частотах, стоят небольшие по модулю коэффициенты. Т.е. в данном блоке низкие частоты делают ощутимо больший вклад в формирование изображения, нежели высокие частоты."
   ]
  },
  {
   "cell_type": "markdown",
   "id": "5676a953",
   "metadata": {},
   "source": [
    "Давайте посмотрим, как алгоритм убирает из изображения высокие частоты.\n",
    "Для этого нам понадобится вспомогательная таблица, которая называется матрицей квантования, она задаётся стандартом сжатия изображений JPEG."
   ]
  },
  {
   "cell_type": "code",
   "execution_count": 20,
   "id": "a268604f",
   "metadata": {},
   "outputs": [],
   "source": [
    "quant = np.array([[16, 11, 10, 16,  24,  40,  51,  61],\n",
    "                  [12, 12, 14, 19,  26,  58,  60,  55],\n",
    "                  [14, 13, 16, 24,  40,  57,  69,  56],\n",
    "                  [14, 17, 22, 29,  51,  87,  80,  62],\n",
    "                  [18, 22, 37, 56,  68, 109, 103,  77],\n",
    "                  [24, 35, 55, 64,  81, 104, 113,  92],\n",
    "                  [49, 64, 78, 87, 103, 121, 120, 101],\n",
    "                  [72, 92, 95, 98, 112, 100, 103,  99]])"
   ]
  },
  {
   "cell_type": "markdown",
   "id": "39804b04",
   "metadata": {},
   "source": [
    "Теперь мы берём амплитуды и поэлементно делим на таблицу квантования, округляя до целого."
   ]
  },
  {
   "cell_type": "code",
   "execution_count": 21,
   "id": "3ea6449e",
   "metadata": {},
   "outputs": [],
   "source": [
    "quant_a = np.array((a / quant).round(), dtype=int)"
   ]
  },
  {
   "cell_type": "code",
   "execution_count": 22,
   "id": "a654c18a",
   "metadata": {},
   "outputs": [
    {
     "data": {
      "text/plain": [
       "array([[-26,  -3,  -6,   2,   2,  -1,   0,   0],\n",
       "       [  0,  -2,  -4,   1,   1,   0,   0,   0],\n",
       "       [ -3,   1,   5,  -1,  -1,   0,   0,   0],\n",
       "       [ -3,   1,   2,  -1,   0,   0,   0,   0],\n",
       "       [  1,   0,   0,   0,   0,   0,   0,   0],\n",
       "       [  0,   0,   0,   0,   0,   0,   0,   0],\n",
       "       [  0,   0,   0,   0,   0,   0,   0,   0],\n",
       "       [  0,   0,   0,   0,   0,   0,   0,   0]])"
      ]
     },
     "execution_count": 22,
     "metadata": {},
     "output_type": "execute_result"
    }
   ],
   "source": [
    "quant_a"
   ]
  },
  {
   "cell_type": "markdown",
   "id": "cdb493a9",
   "metadata": {},
   "source": [
    "Получилась таблица, большое количество элементов которой нулевые, и эти элементы соответствуют высоким частотам. То есть при сжатии изображения мы в большей степени выкидываем высокие частоты, чем низкие. Это происходит именно на данном этапе - этапе квантования."
   ]
  }
 ],
 "metadata": {
  "kernelspec": {
   "display_name": "Python 3 (ipykernel)",
   "language": "python",
   "name": "python3"
  },
  "language_info": {
   "codemirror_mode": {
    "name": "ipython",
    "version": 3
   },
   "file_extension": ".py",
   "mimetype": "text/x-python",
   "name": "python",
   "nbconvert_exporter": "python",
   "pygments_lexer": "ipython3",
   "version": "3.9.1"
  }
 },
 "nbformat": 4,
 "nbformat_minor": 5
}
