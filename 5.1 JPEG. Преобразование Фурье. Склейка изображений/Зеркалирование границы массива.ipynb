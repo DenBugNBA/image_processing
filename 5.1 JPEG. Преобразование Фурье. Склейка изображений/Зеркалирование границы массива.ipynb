{
 "cells": [
  {
   "cell_type": "code",
   "execution_count": 1,
   "id": "9c75bf58",
   "metadata": {},
   "outputs": [
    {
     "name": "stdout",
     "output_type": "stream",
     "text": [
      "['a', 'b', 'c']\n",
      "['c', 'b', 'a']\n",
      "['c', 'b', 'a', 'a', 'b', 'c']\n",
      "['c', 'b', 'a', 'a', 'b', 'c', 'c', 'b', 'a']\n",
      "['d', 'e', 'f']\n",
      "['f', 'e', 'd']\n",
      "['f', 'e', 'd', 'd', 'e', 'f']\n",
      "['f', 'e', 'd', 'd', 'e', 'f', 'f', 'e', 'd']\n",
      "['g', 'h', 'i']\n",
      "['i', 'h', 'g']\n",
      "['i', 'h', 'g', 'g', 'h', 'i']\n",
      "['i', 'h', 'g', 'g', 'h', 'i', 'i', 'h', 'g']\n",
      "[['c', 'b', 'a', 'a', 'b', 'c', 'c', 'b', 'a'], ['f', 'e', 'd', 'd', 'e', 'f', 'f', 'e', 'd'], ['i', 'h', 'g', 'g', 'h', 'i', 'i', 'h', 'g']]\n",
      "[['i', 'h', 'g', 'g', 'h', 'i', 'i', 'h', 'g'], ['f', 'e', 'd', 'd', 'e', 'f', 'f', 'e', 'd'], ['c', 'b', 'a', 'a', 'b', 'c', 'c', 'b', 'a']]\n",
      "[['i', 'h', 'g', 'g', 'h', 'i', 'i', 'h', 'g'], ['f', 'e', 'd', 'd', 'e', 'f', 'f', 'e', 'd'], ['c', 'b', 'a', 'a', 'b', 'c', 'c', 'b', 'a'], ['c', 'b', 'a', 'a', 'b', 'c', 'c', 'b', 'a'], ['f', 'e', 'd', 'd', 'e', 'f', 'f', 'e', 'd'], ['i', 'h', 'g', 'g', 'h', 'i', 'i', 'h', 'g']]\n",
      "[['i', 'h', 'g', 'g', 'h', 'i', 'i', 'h', 'g'], ['f', 'e', 'd', 'd', 'e', 'f', 'f', 'e', 'd'], ['c', 'b', 'a', 'a', 'b', 'c', 'c', 'b', 'a'], ['c', 'b', 'a', 'a', 'b', 'c', 'c', 'b', 'a'], ['f', 'e', 'd', 'd', 'e', 'f', 'f', 'e', 'd'], ['i', 'h', 'g', 'g', 'h', 'i', 'i', 'h', 'g'], ['i', 'h', 'g', 'g', 'h', 'i', 'i', 'h', 'g'], ['f', 'e', 'd', 'd', 'e', 'f', 'f', 'e', 'd'], ['c', 'b', 'a', 'a', 'b', 'c', 'c', 'b', 'a']]\n"
     ]
    }
   ],
   "source": [
    "def mirror(seq):\n",
    "    print(seq)\n",
    "    output = list(seq[::-1])\n",
    "    print(output)\n",
    "    output.extend(seq[:])\n",
    "    print(output)\n",
    "    output.extend(seq[::-1])\n",
    "    print(output)\n",
    "    return output\n",
    "\n",
    "inputs = [\n",
    "   ['a', 'b', 'c'],\n",
    "   ['d', 'e', 'f'],\n",
    "   ['g', 'h', 'i'],\n",
    "]\n",
    "\n",
    "a = mirror([mirror(sublist) for sublist in inputs])"
   ]
  },
  {
   "cell_type": "code",
   "execution_count": 2,
   "id": "9875c1e1",
   "metadata": {},
   "outputs": [
    {
     "data": {
      "text/plain": [
       "[['i', 'h', 'g', 'g', 'h', 'i', 'i', 'h', 'g'],\n",
       " ['f', 'e', 'd', 'd', 'e', 'f', 'f', 'e', 'd'],\n",
       " ['c', 'b', 'a', 'a', 'b', 'c', 'c', 'b', 'a'],\n",
       " ['c', 'b', 'a', 'a', 'b', 'c', 'c', 'b', 'a'],\n",
       " ['f', 'e', 'd', 'd', 'e', 'f', 'f', 'e', 'd'],\n",
       " ['i', 'h', 'g', 'g', 'h', 'i', 'i', 'h', 'g'],\n",
       " ['i', 'h', 'g', 'g', 'h', 'i', 'i', 'h', 'g'],\n",
       " ['f', 'e', 'd', 'd', 'e', 'f', 'f', 'e', 'd'],\n",
       " ['c', 'b', 'a', 'a', 'b', 'c', 'c', 'b', 'a']]"
      ]
     },
     "execution_count": 2,
     "metadata": {},
     "output_type": "execute_result"
    }
   ],
   "source": [
    "a"
   ]
  },
  {
   "cell_type": "code",
   "execution_count": 2,
   "id": "c47b4e30",
   "metadata": {},
   "outputs": [],
   "source": [
    "import numpy as np"
   ]
  },
  {
   "cell_type": "code",
   "execution_count": 4,
   "id": "cc70e562",
   "metadata": {},
   "outputs": [],
   "source": [
    "a = np.array(a)"
   ]
  },
  {
   "cell_type": "code",
   "execution_count": 5,
   "id": "7949866a",
   "metadata": {},
   "outputs": [
    {
     "data": {
      "text/plain": [
       "array([['i', 'h', 'g', 'g', 'h', 'i', 'i', 'h', 'g'],\n",
       "       ['f', 'e', 'd', 'd', 'e', 'f', 'f', 'e', 'd'],\n",
       "       ['c', 'b', 'a', 'a', 'b', 'c', 'c', 'b', 'a'],\n",
       "       ['c', 'b', 'a', 'a', 'b', 'c', 'c', 'b', 'a'],\n",
       "       ['f', 'e', 'd', 'd', 'e', 'f', 'f', 'e', 'd'],\n",
       "       ['i', 'h', 'g', 'g', 'h', 'i', 'i', 'h', 'g'],\n",
       "       ['i', 'h', 'g', 'g', 'h', 'i', 'i', 'h', 'g'],\n",
       "       ['f', 'e', 'd', 'd', 'e', 'f', 'f', 'e', 'd'],\n",
       "       ['c', 'b', 'a', 'a', 'b', 'c', 'c', 'b', 'a']], dtype='<U1')"
      ]
     },
     "execution_count": 5,
     "metadata": {},
     "output_type": "execute_result"
    }
   ],
   "source": [
    "a"
   ]
  },
  {
   "cell_type": "markdown",
   "id": "e6c5b0d3",
   "metadata": {},
   "source": [
    "Функция:"
   ]
  },
  {
   "cell_type": "code",
   "execution_count": 11,
   "id": "3ce83c4a",
   "metadata": {},
   "outputs": [],
   "source": [
    "half = 2"
   ]
  },
  {
   "cell_type": "code",
   "execution_count": 7,
   "id": "ccf12585",
   "metadata": {},
   "outputs": [
    {
     "data": {
      "text/plain": [
       "[1]"
      ]
     },
     "execution_count": 7,
     "metadata": {},
     "output_type": "execute_result"
    }
   ],
   "source": [
    "lst = [1, 2, 3]\n",
    "lst_rev = lst[::-1][-half:]\n",
    "#lst_rev = lst[:-2:-1]\n",
    "lst_rev"
   ]
  },
  {
   "cell_type": "code",
   "execution_count": 12,
   "id": "d707d1d0",
   "metadata": {},
   "outputs": [],
   "source": [
    "b = np.array([\n",
    "   [1, 2, 3, 4],\n",
    "   [5, 6, 7, 8],\n",
    "   [9, 10, 11, 12],\n",
    "])"
   ]
  },
  {
   "cell_type": "code",
   "execution_count": 19,
   "id": "5d0e02dc",
   "metadata": {},
   "outputs": [
    {
     "data": {
      "text/plain": [
       "(3, 4)"
      ]
     },
     "execution_count": 19,
     "metadata": {},
     "output_type": "execute_result"
    }
   ],
   "source": [
    "b.shape"
   ]
  },
  {
   "cell_type": "code",
   "execution_count": 13,
   "id": "668373da",
   "metadata": {},
   "outputs": [
    {
     "name": "stdout",
     "output_type": "stream",
     "text": [
      "[1 2 3 4]\n",
      "[5 6 7 8]\n",
      "[ 9 10 11 12]\n"
     ]
    }
   ],
   "source": [
    "for i in b:\n",
    "    print(i)"
   ]
  },
  {
   "cell_type": "code",
   "execution_count": 14,
   "id": "315cc900",
   "metadata": {},
   "outputs": [
    {
     "name": "stdout",
     "output_type": "stream",
     "text": [
      "[2, 1]\n",
      "[2, 1, 1, 2, 3, 4]\n",
      "[2, 1, 1, 2, 3, 4, 4, 3]\n",
      "[6, 5]\n",
      "[6, 5, 5, 6, 7, 8]\n",
      "[6, 5, 5, 6, 7, 8, 8, 7]\n",
      "[10, 9]\n",
      "[10, 9, 9, 10, 11, 12]\n",
      "[10, 9, 9, 10, 11, 12, 12, 11]\n",
      "[[6, 5, 5, 6, 7, 8, 8, 7], [2, 1, 1, 2, 3, 4, 4, 3]]\n",
      "[[6, 5, 5, 6, 7, 8, 8, 7], [2, 1, 1, 2, 3, 4, 4, 3], [2, 1, 1, 2, 3, 4, 4, 3], [6, 5, 5, 6, 7, 8, 8, 7], [10, 9, 9, 10, 11, 12, 12, 11]]\n",
      "[[6, 5, 5, 6, 7, 8, 8, 7], [2, 1, 1, 2, 3, 4, 4, 3], [2, 1, 1, 2, 3, 4, 4, 3], [6, 5, 5, 6, 7, 8, 8, 7], [10, 9, 9, 10, 11, 12, 12, 11], [10, 9, 9, 10, 11, 12, 12, 11], [6, 5, 5, 6, 7, 8, 8, 7]]\n"
     ]
    }
   ],
   "source": [
    "def mirror(seq):\n",
    "    output = list(seq[::-1][-half:])\n",
    "    print(output)\n",
    "    output.extend(seq[:])\n",
    "    print(output)\n",
    "    output.extend(seq[-1:-(half + 1):-1])\n",
    "    print(output)\n",
    "    return output\n",
    "\n",
    "b_mirrored = mirror([mirror(sublist) for sublist in b])"
   ]
  },
  {
   "cell_type": "code",
   "execution_count": 15,
   "id": "08f0acd2",
   "metadata": {},
   "outputs": [
    {
     "data": {
      "text/plain": [
       "[[6, 5, 5, 6, 7, 8, 8, 7],\n",
       " [2, 1, 1, 2, 3, 4, 4, 3],\n",
       " [2, 1, 1, 2, 3, 4, 4, 3],\n",
       " [6, 5, 5, 6, 7, 8, 8, 7],\n",
       " [10, 9, 9, 10, 11, 12, 12, 11],\n",
       " [10, 9, 9, 10, 11, 12, 12, 11],\n",
       " [6, 5, 5, 6, 7, 8, 8, 7]]"
      ]
     },
     "execution_count": 15,
     "metadata": {},
     "output_type": "execute_result"
    }
   ],
   "source": [
    "b_mirrored"
   ]
  },
  {
   "cell_type": "code",
   "execution_count": 16,
   "id": "451d894e",
   "metadata": {},
   "outputs": [],
   "source": [
    "b_mirrored = np.array(b_mirrored)"
   ]
  },
  {
   "cell_type": "code",
   "execution_count": 17,
   "id": "d9c93c5b",
   "metadata": {},
   "outputs": [
    {
     "data": {
      "text/plain": [
       "array([[ 6,  5,  5,  6,  7,  8,  8,  7],\n",
       "       [ 2,  1,  1,  2,  3,  4,  4,  3],\n",
       "       [ 2,  1,  1,  2,  3,  4,  4,  3],\n",
       "       [ 6,  5,  5,  6,  7,  8,  8,  7],\n",
       "       [10,  9,  9, 10, 11, 12, 12, 11],\n",
       "       [10,  9,  9, 10, 11, 12, 12, 11],\n",
       "       [ 6,  5,  5,  6,  7,  8,  8,  7]])"
      ]
     },
     "execution_count": 17,
     "metadata": {},
     "output_type": "execute_result"
    }
   ],
   "source": [
    "b_mirrored"
   ]
  },
  {
   "cell_type": "code",
   "execution_count": 18,
   "id": "7ab7fe35",
   "metadata": {},
   "outputs": [
    {
     "data": {
      "text/plain": [
       "(7, 8)"
      ]
     },
     "execution_count": 18,
     "metadata": {},
     "output_type": "execute_result"
    }
   ],
   "source": [
    "b_mirrored.shape"
   ]
  },
  {
   "cell_type": "code",
   "execution_count": 15,
   "id": "ad171627",
   "metadata": {},
   "outputs": [],
   "source": [
    "def mirror(seq, half):\n",
    "    output = list(seq[::-1][-half:])\n",
    "    output.extend(seq[:])\n",
    "    output.extend(seq[-1:-(half + 1):-1])\n",
    "    return output"
   ]
  },
  {
   "cell_type": "code",
   "execution_count": 16,
   "id": "3ebc131d",
   "metadata": {},
   "outputs": [],
   "source": [
    "def mirroring_border(arr, half):\n",
    "    arr_mirrored = mirror([mirror(sublist, half) for sublist in arr], half)\n",
    "    arr_mirrored = np.array(arr_mirrored)\n",
    "    return arr_mirrored"
   ]
  },
  {
   "cell_type": "code",
   "execution_count": 17,
   "id": "c75aff72",
   "metadata": {},
   "outputs": [],
   "source": [
    "arr = np.array([\n",
    "   [1, 2, 3],\n",
    "   [4, 5, 6],\n",
    "   [7, 8, 9],\n",
    "])"
   ]
  },
  {
   "cell_type": "code",
   "execution_count": 18,
   "id": "8827427e",
   "metadata": {},
   "outputs": [
    {
     "data": {
      "text/plain": [
       "array([[1, 2, 3],\n",
       "       [4, 5, 6],\n",
       "       [7, 8, 9]])"
      ]
     },
     "execution_count": 18,
     "metadata": {},
     "output_type": "execute_result"
    }
   ],
   "source": [
    "arr"
   ]
  },
  {
   "cell_type": "code",
   "execution_count": 19,
   "id": "44bcb393",
   "metadata": {},
   "outputs": [],
   "source": [
    "arr_mirrored = mirroring_border(arr, half)"
   ]
  },
  {
   "cell_type": "code",
   "execution_count": 20,
   "id": "76b617b1",
   "metadata": {},
   "outputs": [
    {
     "data": {
      "text/plain": [
       "array([[1, 1, 2, 3, 3],\n",
       "       [1, 1, 2, 3, 3],\n",
       "       [4, 4, 5, 6, 6],\n",
       "       [7, 7, 8, 9, 9],\n",
       "       [7, 7, 8, 9, 9]])"
      ]
     },
     "execution_count": 20,
     "metadata": {},
     "output_type": "execute_result"
    }
   ],
   "source": [
    "arr_mirrored"
   ]
  },
  {
   "cell_type": "code",
   "execution_count": 21,
   "id": "31a1d2ca",
   "metadata": {},
   "outputs": [
    {
     "data": {
      "text/plain": [
       "(5, 5)"
      ]
     },
     "execution_count": 21,
     "metadata": {},
     "output_type": "execute_result"
    }
   ],
   "source": [
    "arr_mirrored.shape"
   ]
  }
 ],
 "metadata": {
  "kernelspec": {
   "display_name": "Python 3 (ipykernel)",
   "language": "python",
   "name": "python3"
  },
  "language_info": {
   "codemirror_mode": {
    "name": "ipython",
    "version": 3
   },
   "file_extension": ".py",
   "mimetype": "text/x-python",
   "name": "python",
   "nbconvert_exporter": "python",
   "pygments_lexer": "ipython3",
   "version": "3.9.1"
  }
 },
 "nbformat": 4,
 "nbformat_minor": 5
}
