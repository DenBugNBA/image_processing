{
 "cells": [
  {
   "cell_type": "code",
   "execution_count": 1,
   "id": "2e100868",
   "metadata": {},
   "outputs": [],
   "source": [
    "value = 'Hexlet'"
   ]
  },
  {
   "cell_type": "code",
   "execution_count": 2,
   "id": "7e55b5f1",
   "metadata": {},
   "outputs": [
    {
     "data": {
      "text/plain": [
       "'elx'"
      ]
     },
     "execution_count": 2,
     "metadata": {},
     "output_type": "execute_result"
    }
   ],
   "source": [
    "value[4:1:-1]"
   ]
  },
  {
   "cell_type": "code",
   "execution_count": 3,
   "id": "81cad808",
   "metadata": {},
   "outputs": [],
   "source": [
    "lst = [1, 2, 3]"
   ]
  },
  {
   "cell_type": "code",
   "execution_count": 4,
   "id": "5ddc058f",
   "metadata": {},
   "outputs": [],
   "source": [
    "half = 3"
   ]
  },
  {
   "cell_type": "code",
   "execution_count": 5,
   "id": "7c99c24c",
   "metadata": {},
   "outputs": [],
   "source": [
    "lst_rev = lst[::-1][-half:]"
   ]
  },
  {
   "cell_type": "code",
   "execution_count": 6,
   "id": "90bb48e3",
   "metadata": {},
   "outputs": [
    {
     "data": {
      "text/plain": [
       "[3, 2, 1]"
      ]
     },
     "execution_count": 6,
     "metadata": {},
     "output_type": "execute_result"
    }
   ],
   "source": [
    "lst_rev"
   ]
  },
  {
   "cell_type": "code",
   "execution_count": null,
   "id": "36874613",
   "metadata": {},
   "outputs": [],
   "source": []
  },
  {
   "cell_type": "code",
   "execution_count": 7,
   "id": "89d14c4b",
   "metadata": {},
   "outputs": [],
   "source": [
    "import numpy as np"
   ]
  },
  {
   "cell_type": "code",
   "execution_count": 8,
   "id": "82ffba6e",
   "metadata": {},
   "outputs": [],
   "source": [
    "a = np.array([1, 2, 3])"
   ]
  },
  {
   "cell_type": "code",
   "execution_count": 9,
   "id": "3db43afc",
   "metadata": {},
   "outputs": [],
   "source": [
    "b = []"
   ]
  },
  {
   "cell_type": "code",
   "execution_count": 10,
   "id": "f4f20ea7",
   "metadata": {},
   "outputs": [],
   "source": [
    "b.append(a)"
   ]
  },
  {
   "cell_type": "code",
   "execution_count": 11,
   "id": "aae4e12a",
   "metadata": {},
   "outputs": [
    {
     "data": {
      "text/plain": [
       "1"
      ]
     },
     "execution_count": 11,
     "metadata": {},
     "output_type": "execute_result"
    }
   ],
   "source": [
    "b[0][0]"
   ]
  },
  {
   "cell_type": "code",
   "execution_count": 13,
   "id": "ee51a642",
   "metadata": {},
   "outputs": [
    {
     "data": {
      "text/plain": [
       "(3,)"
      ]
     },
     "execution_count": 13,
     "metadata": {},
     "output_type": "execute_result"
    }
   ],
   "source": [
    "b[0].shape"
   ]
  }
 ],
 "metadata": {
  "kernelspec": {
   "display_name": "Python 3 (ipykernel)",
   "language": "python",
   "name": "python3"
  },
  "language_info": {
   "codemirror_mode": {
    "name": "ipython",
    "version": 3
   },
   "file_extension": ".py",
   "mimetype": "text/x-python",
   "name": "python",
   "nbconvert_exporter": "python",
   "pygments_lexer": "ipython3",
   "version": "3.9.1"
  }
 },
 "nbformat": 4,
 "nbformat_minor": 5
}
